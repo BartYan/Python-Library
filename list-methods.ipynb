{
 "cells": [
  {
   "cell_type": "code",
   "execution_count": 1,
   "metadata": {},
   "outputs": [],
   "source": [
    "# 1. append(item) – Dodaje element na końcu listy\n",
    "# 2. extend(iterable) – Rozszerza listę o elementy z innej listy lub iterable\n",
    "# 3. insert(index, item) – Wstawia element w określonej pozycji w liście\n",
    "# 4. remove(item) – Usuwa pierwsze wystąpienie określonego elementu z listy\n",
    "# 5. pop([index]) – Usuwa i zwraca element na podanym indeksie (domyślnie ostatni)\n",
    "# 6. clear() – Usuwa wszystkie elementy z listy\n",
    "# 7. index(item, [start, [end]]) – Zwraca indeks pierwszego wystąpienia elementu\n",
    "# 8. count(item) – Zwraca, ile razy dany element występuje w liście\n",
    "# 9. sort(key=None, reverse=False) – Sortuje elementy listy (rosnąco lub malejąco)\n",
    "# 10. reverse() – Odwraca kolejność elementów w liście\n",
    "# 11. copy() – Tworzy płytką kopię listy\n",
    "# 12. min(list) – Zwraca minimalny element w liście\n",
    "# 13. max(list) – Zwraca maksymalny element w liście\n",
    "# 14. len(list) – Zwraca długość listy (liczbę elementów)"
   ]
  },
  {
   "cell_type": "code",
   "execution_count": 2,
   "metadata": {},
   "outputs": [],
   "source": [
    "my_list = [1, 2, 3]\n",
    "\n",
    "# Dodaje element na końcu listy\n",
    "my_list.append(4)      # [1, 2, 3, 4]\n",
    "\n",
    "# Rozszerza listę o elementy innej listy lub iterable\n",
    "my_list.extend([5, 6]) # [1, 2, 3, 4, 5, 6]\n",
    "\n",
    "# Wstawia element na określonej pozycji (indeks 2)\n",
    "my_list.insert(2, 'a') # [1, 2, 'a', 3, 4, 5, 6]\n",
    "\n",
    "# Usuwa pierwsze wystąpienie określonego elementu\n",
    "my_list.remove('a')    # [1, 2, 3, 4, 5, 6]\n",
    "\n",
    "# Usuwa i zwraca ostatni element (lub element o podanym indeksie)\n",
    "popped_item = my_list.pop()   # Zwraca 6, a lista to teraz [1, 2, 3, 4, 5]\n",
    "popped_item_at_index_1 = my_list.pop(1)  # Zwraca 2, lista to teraz [1, 3, 4, 5]\n",
    "\n",
    "# Usuwa wszystkie elementy z listy\n",
    "my_list.clear()        # []\n",
    "\n",
    "# Znajduje indeks pierwszego wystąpienia elementu (opcjonalnie w zakresie)\n",
    "my_list = [10, 20, 30, 20]\n",
    "index_of_20 = my_list.index(20)  # Zwraca 1 (pierwsze wystąpienie)\n",
    "\n",
    "# Zlicza, ile razy dany element występuje w liście\n",
    "count_of_20 = my_list.count(20)  # Zwraca 2\n",
    "\n",
    "# Sortuje elementy listy\n",
    "my_list.sort()  # [10, 20, 20, 30] - sortowanie rosnące\n",
    "my_list.sort(reverse=True)  # [30, 20, 20, 10] - sortowanie malejące\n",
    "\n",
    "# Odwraca kolejność elementów w liście\n",
    "my_list.reverse()  # [10, 20, 20, 30]\n",
    "\n",
    "# Tworzy płytką kopię listy\n",
    "my_list_copy = my_list.copy()  # Kopia listy\n",
    "\n",
    "# Zwraca minimalny element w liście\n",
    "min_value = min(my_list)  # Zwraca 10\n",
    "\n",
    "# Zwraca maksymalny element w liście\n",
    "max_value = max(my_list)  # Zwraca 30\n",
    "\n",
    "# Zwraca długość listy (liczbę elementów)\n",
    "length_of_list = len(my_list)  # Zwraca 4"
   ]
  },
  {
   "cell_type": "code",
   "execution_count": null,
   "metadata": {},
   "outputs": [],
   "source": []
  }
 ],
 "metadata": {
  "kernelspec": {
   "display_name": "Python 3",
   "language": "python",
   "name": "python3"
  },
  "language_info": {
   "codemirror_mode": {
    "name": "ipython",
    "version": 3
   },
   "file_extension": ".py",
   "mimetype": "text/x-python",
   "name": "python",
   "nbconvert_exporter": "python",
   "pygments_lexer": "ipython3",
   "version": "3.9.6"
  }
 },
 "nbformat": 4,
 "nbformat_minor": 2
}
