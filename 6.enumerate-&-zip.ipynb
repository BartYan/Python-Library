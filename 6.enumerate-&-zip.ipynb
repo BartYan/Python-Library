{
 "cells": [
  {
   "cell_type": "markdown",
   "metadata": {},
   "source": [
    "# Enumerate & ZIP"
   ]
  },
  {
   "cell_type": "markdown",
   "metadata": {},
   "source": [
    "## enumerate"
   ]
  },
  {
   "cell_type": "code",
   "execution_count": 7,
   "metadata": {},
   "outputs": [
    {
     "name": "stdout",
     "output_type": "stream",
     "text": [
      "<enumerate object at 0x1048bf580>\n",
      "[(0, 19), (1, 21), (2, 22), (3, 21), (4, 20), (5, 22)]\n",
      "Position  0 value  19\n",
      "Position  1 value  21\n",
      "Position  2 value  22\n",
      "Position  3 value  21\n",
      "Position  4 value  20\n",
      "Position  5 value  22\n"
     ]
    }
   ],
   "source": [
    "workDays = [19, 21, 22, 21, 20, 22]\n",
    "enumerateDays = enumerate(workDays)\n",
    "print(enumerateDays)\n",
    "\n",
    "enumerateDays = list(enumerate(workDays))\n",
    "print(enumerateDays)\n",
    "\n",
    "for pos, value in enumerateDays:\n",
    "    print('Position ', pos, 'value ', value)"
   ]
  },
  {
   "cell_type": "markdown",
   "metadata": {},
   "source": [
    "## zip"
   ]
  },
  {
   "cell_type": "code",
   "execution_count": 10,
   "metadata": {},
   "outputs": [
    {
     "name": "stdout",
     "output_type": "stream",
     "text": [
      "<zip object at 0x104962f00>\n",
      "[('I', 19), ('II', 21), ('III', 22), ('IV', 21), ('V', 20), ('VI', 22)]\n",
      "Month  0 days  19\n",
      "Month  1 days  21\n",
      "Month  2 days  22\n",
      "Month  3 days  21\n",
      "Month  4 days  20\n",
      "Month  5 days  22\n"
     ]
    }
   ],
   "source": [
    "months = ['I', 'II', 'III', 'IV', 'V', 'VI']\n",
    "\n",
    "monthsDays = zip(months, workDays)\n",
    "print(monthsDays)\n",
    "\n",
    "monthsDays = list(zip(months, workDays))\n",
    "print(monthsDays)\n",
    "\n",
    "for m, d in enumerateDays:\n",
    "    print('Month ', m, 'days ', d)"
   ]
  },
  {
   "cell_type": "code",
   "execution_count": 14,
   "metadata": {},
   "outputs": [
    {
     "name": "stdout",
     "output_type": "stream",
     "text": [
      "[(0, ('I', 19)), (1, ('II', 21)), (2, ('III', 22)), (3, ('IV', 21)), (4, ('V', 20)), (5, ('VI', 22))]\n",
      "Position  0 month  I days 19\n",
      "Position  1 month  II days 21\n",
      "Position  2 month  III days 22\n",
      "Position  3 month  IV days 21\n",
      "Position  4 month  V days 20\n",
      "Position  5 month  VI days 22\n"
     ]
    }
   ],
   "source": [
    "check = list(enumerate(zip(months, workDays)))\n",
    "print(check)\n",
    "\n",
    "for pos, (m, d) in enumerate(zip(months, workDays)):\n",
    "    print('Position ', pos, 'month ', m, 'days', d)\n"
   ]
  },
  {
   "cell_type": "markdown",
   "metadata": {},
   "source": [
    "## Example"
   ]
  },
  {
   "cell_type": "code",
   "execution_count": 15,
   "metadata": {},
   "outputs": [
    {
     "name": "stdout",
     "output_type": "stream",
     "text": [
      "The leader of \"Brexit\" is Theresa May\n",
      "The leader of \"Nord Stream\" is Wladimir Putin\n",
      "The leader of \"US Mexico Border\" is Donald Trump and Bill Clinton\n",
      "The leader of \"Brexit\" started 2016-06-23 is Theresa May\n",
      "The leader of \"Nord Stream\" started 2016-08-29 is Wladimir Putin\n",
      "The leader of \"US Mexico Border\" started 1994-01-01 is Donald Trump and Bill Clinton\n",
      "1 - The leader of \"Brexit\" started 2016-06-23 is Theresa May\n",
      "2 - The leader of \"Nord Stream\" started 2016-08-29 is Wladimir Putin\n",
      "3 - The leader of \"US Mexico Border\" started 1994-01-01 is Donald Trump and Bill Clinton\n"
     ]
    }
   ],
   "source": [
    "projects = ['Brexit', 'Nord Stream', 'US Mexico Border']\n",
    "leaders = ['Theresa May', 'Wladimir Putin', 'Donald Trump and Bill Clinton']\n",
    " \n",
    "for p, l in zip(projects, leaders):\n",
    "    print('The leader of \"{}\" is {}'.format(p,l))\n",
    " \n",
    "\n",
    "dates = ['2016-06-23', '2016-08-29', '1994-01-01']\n",
    " \n",
    "for p, l,d in zip(projects, leaders, dates):\n",
    "    print('The leader of \"{}\" started {} is {}'.format(p,d,l))\n",
    " \n",
    " \n",
    "for i, (p,l,d) in enumerate(zip(projects, leaders, dates)):\n",
    "    print('{} - The leader of \"{}\" started {} is {}'.format(i+1,p,d,l))"
   ]
  },
  {
   "cell_type": "code",
   "execution_count": null,
   "metadata": {},
   "outputs": [],
   "source": []
  }
 ],
 "metadata": {
  "kernelspec": {
   "display_name": "Python 3",
   "language": "python",
   "name": "python3"
  },
  "language_info": {
   "codemirror_mode": {
    "name": "ipython",
    "version": 3
   },
   "file_extension": ".py",
   "mimetype": "text/x-python",
   "name": "python",
   "nbconvert_exporter": "python",
   "pygments_lexer": "ipython3",
   "version": "3.9.6"
  }
 },
 "nbformat": 4,
 "nbformat_minor": 2
}
