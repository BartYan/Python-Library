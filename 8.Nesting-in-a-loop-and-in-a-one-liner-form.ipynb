{
 "cells": [
  {
   "cell_type": "markdown",
   "metadata": {},
   "source": [
    "# Nesting in a loop and the same in a one-liner form"
   ]
  },
  {
   "cell_type": "code",
   "execution_count": 4,
   "metadata": {},
   "outputs": [
    {
     "name": "stdout",
     "output_type": "stream",
     "text": [
      "[(0, 0), (0, 1), (0, 2), (0, 3), (0, 4), (0, 5), (1, 0), (1, 1), (1, 2), (1, 3), (1, 4), (1, 5), (2, 0), (2, 1), (2, 2), (2, 3), (2, 4), (2, 5), (3, 0), (3, 1), (3, 2), (3, 3), (3, 4), (3, 5), (4, 0), (4, 1), (4, 2), (4, 3), (4, 4), (4, 5), (5, 0), (5, 1), (5, 2), (5, 3), (5, 4), (5, 5)]\n",
      "[(0, 0), (0, 1), (0, 2), (0, 3), (0, 4), (0, 5), (1, 0), (1, 1), (1, 2), (1, 3), (1, 4), (1, 5), (2, 0), (2, 1), (2, 2), (2, 3), (2, 4), (2, 5), (3, 0), (3, 1), (3, 2), (3, 3), (3, 4), (3, 5), (4, 0), (4, 1), (4, 2), (4, 3), (4, 4), (4, 5), (5, 0), (5, 1), (5, 2), (5, 3), (5, 4), (5, 5)]\n",
      "[(1, 0), (1, 2), (1, 4), (3, 0), (3, 2), (3, 4), (5, 0), (5, 2), (5, 4)]\n",
      "{1: 4, 3: 4, 5: 4}\n"
     ]
    }
   ],
   "source": [
    "listA = list(range(6))\n",
    "listB = list(range(6))\n",
    "\n",
    "product = []\n",
    "\n",
    "for a in listA:\n",
    "    for b in listB:\n",
    "        product.append((a,b))\n",
    "\n",
    "print(product)\n",
    "\n",
    "product = [(a,b) for a in listA for b in listB]\n",
    "print(product)\n",
    "\n",
    "product = [(a,b) for a in listA for b in listB if a % 2 and b % 2 == 0]\n",
    "print(product)\n",
    "\n",
    "# dict \n",
    "product = {a:b for a in listA for b in listB if a % 2 and b % 2 == 0}\n",
    "print(product)\n"
   ]
  },
  {
   "cell_type": "markdown",
   "metadata": {},
   "source": [
    "## Example"
   ]
  },
  {
   "cell_type": "code",
   "execution_count": 5,
   "metadata": {},
   "outputs": [
    {
     "name": "stdout",
     "output_type": "stream",
     "text": [
      "[('WAW', 'WAW'), ('WAW', 'KRK'), ('WAW', 'GDN'), ('WAW', 'KTW'), ('WAW', 'WMI'), ('WAW', 'WRO'), ('WAW', 'POZ'), ('WAW', 'RZE'), ('WAW', 'SZZ'), ('WAW', 'LUZ'), ('WAW', 'BZG'), ('WAW', 'LCJ'), ('WAW', 'SZY'), ('WAW', 'IEG'), ('WAW', 'RDO'), ('KRK', 'WAW'), ('KRK', 'KRK'), ('KRK', 'GDN'), ('KRK', 'KTW'), ('KRK', 'WMI'), ('KRK', 'WRO'), ('KRK', 'POZ'), ('KRK', 'RZE'), ('KRK', 'SZZ'), ('KRK', 'LUZ'), ('KRK', 'BZG'), ('KRK', 'LCJ'), ('KRK', 'SZY'), ('KRK', 'IEG'), ('KRK', 'RDO'), ('GDN', 'WAW'), ('GDN', 'KRK'), ('GDN', 'GDN'), ('GDN', 'KTW'), ('GDN', 'WMI'), ('GDN', 'WRO'), ('GDN', 'POZ'), ('GDN', 'RZE'), ('GDN', 'SZZ'), ('GDN', 'LUZ'), ('GDN', 'BZG'), ('GDN', 'LCJ'), ('GDN', 'SZY'), ('GDN', 'IEG'), ('GDN', 'RDO'), ('KTW', 'WAW'), ('KTW', 'KRK'), ('KTW', 'GDN'), ('KTW', 'KTW'), ('KTW', 'WMI'), ('KTW', 'WRO'), ('KTW', 'POZ'), ('KTW', 'RZE'), ('KTW', 'SZZ'), ('KTW', 'LUZ'), ('KTW', 'BZG'), ('KTW', 'LCJ'), ('KTW', 'SZY'), ('KTW', 'IEG'), ('KTW', 'RDO'), ('WMI', 'WAW'), ('WMI', 'KRK'), ('WMI', 'GDN'), ('WMI', 'KTW'), ('WMI', 'WMI'), ('WMI', 'WRO'), ('WMI', 'POZ'), ('WMI', 'RZE'), ('WMI', 'SZZ'), ('WMI', 'LUZ'), ('WMI', 'BZG'), ('WMI', 'LCJ'), ('WMI', 'SZY'), ('WMI', 'IEG'), ('WMI', 'RDO'), ('WRO', 'WAW'), ('WRO', 'KRK'), ('WRO', 'GDN'), ('WRO', 'KTW'), ('WRO', 'WMI'), ('WRO', 'WRO'), ('WRO', 'POZ'), ('WRO', 'RZE'), ('WRO', 'SZZ'), ('WRO', 'LUZ'), ('WRO', 'BZG'), ('WRO', 'LCJ'), ('WRO', 'SZY'), ('WRO', 'IEG'), ('WRO', 'RDO'), ('POZ', 'WAW'), ('POZ', 'KRK'), ('POZ', 'GDN'), ('POZ', 'KTW'), ('POZ', 'WMI'), ('POZ', 'WRO'), ('POZ', 'POZ'), ('POZ', 'RZE'), ('POZ', 'SZZ'), ('POZ', 'LUZ'), ('POZ', 'BZG'), ('POZ', 'LCJ'), ('POZ', 'SZY'), ('POZ', 'IEG'), ('POZ', 'RDO'), ('RZE', 'WAW'), ('RZE', 'KRK'), ('RZE', 'GDN'), ('RZE', 'KTW'), ('RZE', 'WMI'), ('RZE', 'WRO'), ('RZE', 'POZ'), ('RZE', 'RZE'), ('RZE', 'SZZ'), ('RZE', 'LUZ'), ('RZE', 'BZG'), ('RZE', 'LCJ'), ('RZE', 'SZY'), ('RZE', 'IEG'), ('RZE', 'RDO'), ('SZZ', 'WAW'), ('SZZ', 'KRK'), ('SZZ', 'GDN'), ('SZZ', 'KTW'), ('SZZ', 'WMI'), ('SZZ', 'WRO'), ('SZZ', 'POZ'), ('SZZ', 'RZE'), ('SZZ', 'SZZ'), ('SZZ', 'LUZ'), ('SZZ', 'BZG'), ('SZZ', 'LCJ'), ('SZZ', 'SZY'), ('SZZ', 'IEG'), ('SZZ', 'RDO'), ('LUZ', 'WAW'), ('LUZ', 'KRK'), ('LUZ', 'GDN'), ('LUZ', 'KTW'), ('LUZ', 'WMI'), ('LUZ', 'WRO'), ('LUZ', 'POZ'), ('LUZ', 'RZE'), ('LUZ', 'SZZ'), ('LUZ', 'LUZ'), ('LUZ', 'BZG'), ('LUZ', 'LCJ'), ('LUZ', 'SZY'), ('LUZ', 'IEG'), ('LUZ', 'RDO'), ('BZG', 'WAW'), ('BZG', 'KRK'), ('BZG', 'GDN'), ('BZG', 'KTW'), ('BZG', 'WMI'), ('BZG', 'WRO'), ('BZG', 'POZ'), ('BZG', 'RZE'), ('BZG', 'SZZ'), ('BZG', 'LUZ'), ('BZG', 'BZG'), ('BZG', 'LCJ'), ('BZG', 'SZY'), ('BZG', 'IEG'), ('BZG', 'RDO'), ('LCJ', 'WAW'), ('LCJ', 'KRK'), ('LCJ', 'GDN'), ('LCJ', 'KTW'), ('LCJ', 'WMI'), ('LCJ', 'WRO'), ('LCJ', 'POZ'), ('LCJ', 'RZE'), ('LCJ', 'SZZ'), ('LCJ', 'LUZ'), ('LCJ', 'BZG'), ('LCJ', 'LCJ'), ('LCJ', 'SZY'), ('LCJ', 'IEG'), ('LCJ', 'RDO'), ('SZY', 'WAW'), ('SZY', 'KRK'), ('SZY', 'GDN'), ('SZY', 'KTW'), ('SZY', 'WMI'), ('SZY', 'WRO'), ('SZY', 'POZ'), ('SZY', 'RZE'), ('SZY', 'SZZ'), ('SZY', 'LUZ'), ('SZY', 'BZG'), ('SZY', 'LCJ'), ('SZY', 'SZY'), ('SZY', 'IEG'), ('SZY', 'RDO'), ('IEG', 'WAW'), ('IEG', 'KRK'), ('IEG', 'GDN'), ('IEG', 'KTW'), ('IEG', 'WMI'), ('IEG', 'WRO'), ('IEG', 'POZ'), ('IEG', 'RZE'), ('IEG', 'SZZ'), ('IEG', 'LUZ'), ('IEG', 'BZG'), ('IEG', 'LCJ'), ('IEG', 'SZY'), ('IEG', 'IEG'), ('IEG', 'RDO'), ('RDO', 'WAW'), ('RDO', 'KRK'), ('RDO', 'GDN'), ('RDO', 'KTW'), ('RDO', 'WMI'), ('RDO', 'WRO'), ('RDO', 'POZ'), ('RDO', 'RZE'), ('RDO', 'SZZ'), ('RDO', 'LUZ'), ('RDO', 'BZG'), ('RDO', 'LCJ'), ('RDO', 'SZY'), ('RDO', 'IEG'), ('RDO', 'RDO')]\n",
      "225\n",
      "[('WAW', 'KRK'), ('WAW', 'GDN'), ('WAW', 'KTW'), ('WAW', 'WMI'), ('WAW', 'WRO'), ('WAW', 'POZ'), ('WAW', 'RZE'), ('WAW', 'SZZ'), ('WAW', 'LUZ'), ('WAW', 'BZG'), ('WAW', 'LCJ'), ('WAW', 'SZY'), ('WAW', 'IEG'), ('WAW', 'RDO'), ('KRK', 'WAW'), ('KRK', 'GDN'), ('KRK', 'KTW'), ('KRK', 'WMI'), ('KRK', 'WRO'), ('KRK', 'POZ'), ('KRK', 'RZE'), ('KRK', 'SZZ'), ('KRK', 'LUZ'), ('KRK', 'BZG'), ('KRK', 'LCJ'), ('KRK', 'SZY'), ('KRK', 'IEG'), ('KRK', 'RDO'), ('GDN', 'WAW'), ('GDN', 'KRK'), ('GDN', 'KTW'), ('GDN', 'WMI'), ('GDN', 'WRO'), ('GDN', 'POZ'), ('GDN', 'RZE'), ('GDN', 'SZZ'), ('GDN', 'LUZ'), ('GDN', 'BZG'), ('GDN', 'LCJ'), ('GDN', 'SZY'), ('GDN', 'IEG'), ('GDN', 'RDO'), ('KTW', 'WAW'), ('KTW', 'KRK'), ('KTW', 'GDN'), ('KTW', 'WMI'), ('KTW', 'WRO'), ('KTW', 'POZ'), ('KTW', 'RZE'), ('KTW', 'SZZ'), ('KTW', 'LUZ'), ('KTW', 'BZG'), ('KTW', 'LCJ'), ('KTW', 'SZY'), ('KTW', 'IEG'), ('KTW', 'RDO'), ('WMI', 'WAW'), ('WMI', 'KRK'), ('WMI', 'GDN'), ('WMI', 'KTW'), ('WMI', 'WRO'), ('WMI', 'POZ'), ('WMI', 'RZE'), ('WMI', 'SZZ'), ('WMI', 'LUZ'), ('WMI', 'BZG'), ('WMI', 'LCJ'), ('WMI', 'SZY'), ('WMI', 'IEG'), ('WMI', 'RDO'), ('WRO', 'WAW'), ('WRO', 'KRK'), ('WRO', 'GDN'), ('WRO', 'KTW'), ('WRO', 'WMI'), ('WRO', 'POZ'), ('WRO', 'RZE'), ('WRO', 'SZZ'), ('WRO', 'LUZ'), ('WRO', 'BZG'), ('WRO', 'LCJ'), ('WRO', 'SZY'), ('WRO', 'IEG'), ('WRO', 'RDO'), ('POZ', 'WAW'), ('POZ', 'KRK'), ('POZ', 'GDN'), ('POZ', 'KTW'), ('POZ', 'WMI'), ('POZ', 'WRO'), ('POZ', 'RZE'), ('POZ', 'SZZ'), ('POZ', 'LUZ'), ('POZ', 'BZG'), ('POZ', 'LCJ'), ('POZ', 'SZY'), ('POZ', 'IEG'), ('POZ', 'RDO'), ('RZE', 'WAW'), ('RZE', 'KRK'), ('RZE', 'GDN'), ('RZE', 'KTW'), ('RZE', 'WMI'), ('RZE', 'WRO'), ('RZE', 'POZ'), ('RZE', 'SZZ'), ('RZE', 'LUZ'), ('RZE', 'BZG'), ('RZE', 'LCJ'), ('RZE', 'SZY'), ('RZE', 'IEG'), ('RZE', 'RDO'), ('SZZ', 'WAW'), ('SZZ', 'KRK'), ('SZZ', 'GDN'), ('SZZ', 'KTW'), ('SZZ', 'WMI'), ('SZZ', 'WRO'), ('SZZ', 'POZ'), ('SZZ', 'RZE'), ('SZZ', 'LUZ'), ('SZZ', 'BZG'), ('SZZ', 'LCJ'), ('SZZ', 'SZY'), ('SZZ', 'IEG'), ('SZZ', 'RDO'), ('LUZ', 'WAW'), ('LUZ', 'KRK'), ('LUZ', 'GDN'), ('LUZ', 'KTW'), ('LUZ', 'WMI'), ('LUZ', 'WRO'), ('LUZ', 'POZ'), ('LUZ', 'RZE'), ('LUZ', 'SZZ'), ('LUZ', 'BZG'), ('LUZ', 'LCJ'), ('LUZ', 'SZY'), ('LUZ', 'IEG'), ('LUZ', 'RDO'), ('BZG', 'WAW'), ('BZG', 'KRK'), ('BZG', 'GDN'), ('BZG', 'KTW'), ('BZG', 'WMI'), ('BZG', 'WRO'), ('BZG', 'POZ'), ('BZG', 'RZE'), ('BZG', 'SZZ'), ('BZG', 'LUZ'), ('BZG', 'LCJ'), ('BZG', 'SZY'), ('BZG', 'IEG'), ('BZG', 'RDO'), ('LCJ', 'WAW'), ('LCJ', 'KRK'), ('LCJ', 'GDN'), ('LCJ', 'KTW'), ('LCJ', 'WMI'), ('LCJ', 'WRO'), ('LCJ', 'POZ'), ('LCJ', 'RZE'), ('LCJ', 'SZZ'), ('LCJ', 'LUZ'), ('LCJ', 'BZG'), ('LCJ', 'SZY'), ('LCJ', 'IEG'), ('LCJ', 'RDO'), ('SZY', 'WAW'), ('SZY', 'KRK'), ('SZY', 'GDN'), ('SZY', 'KTW'), ('SZY', 'WMI'), ('SZY', 'WRO'), ('SZY', 'POZ'), ('SZY', 'RZE'), ('SZY', 'SZZ'), ('SZY', 'LUZ'), ('SZY', 'BZG'), ('SZY', 'LCJ'), ('SZY', 'IEG'), ('SZY', 'RDO'), ('IEG', 'WAW'), ('IEG', 'KRK'), ('IEG', 'GDN'), ('IEG', 'KTW'), ('IEG', 'WMI'), ('IEG', 'WRO'), ('IEG', 'POZ'), ('IEG', 'RZE'), ('IEG', 'SZZ'), ('IEG', 'LUZ'), ('IEG', 'BZG'), ('IEG', 'LCJ'), ('IEG', 'SZY'), ('IEG', 'RDO'), ('RDO', 'WAW'), ('RDO', 'KRK'), ('RDO', 'GDN'), ('RDO', 'KTW'), ('RDO', 'WMI'), ('RDO', 'WRO'), ('RDO', 'POZ'), ('RDO', 'RZE'), ('RDO', 'SZZ'), ('RDO', 'LUZ'), ('RDO', 'BZG'), ('RDO', 'LCJ'), ('RDO', 'SZY'), ('RDO', 'IEG')]\n",
      "210\n",
      "[('WAW', 'WMI'), ('WAW', 'WRO'), ('KRK', 'WAW'), ('KRK', 'KTW'), ('KRK', 'WMI'), ('KRK', 'WRO'), ('KRK', 'POZ'), ('KRK', 'RZE'), ('KRK', 'SZZ'), ('KRK', 'LUZ'), ('KRK', 'LCJ'), ('KRK', 'SZY'), ('KRK', 'RDO'), ('GDN', 'WAW'), ('GDN', 'KRK'), ('GDN', 'KTW'), ('GDN', 'WMI'), ('GDN', 'WRO'), ('GDN', 'POZ'), ('GDN', 'RZE'), ('GDN', 'SZZ'), ('GDN', 'LUZ'), ('GDN', 'LCJ'), ('GDN', 'SZY'), ('GDN', 'IEG'), ('GDN', 'RDO'), ('KTW', 'WAW'), ('KTW', 'WMI'), ('KTW', 'WRO'), ('KTW', 'POZ'), ('KTW', 'RZE'), ('KTW', 'SZZ'), ('KTW', 'LUZ'), ('KTW', 'LCJ'), ('KTW', 'SZY'), ('KTW', 'RDO'), ('WMI', 'WRO'), ('POZ', 'WAW'), ('POZ', 'WMI'), ('POZ', 'WRO'), ('POZ', 'RZE'), ('POZ', 'SZZ'), ('POZ', 'SZY'), ('POZ', 'RDO'), ('RZE', 'WAW'), ('RZE', 'WMI'), ('RZE', 'WRO'), ('RZE', 'SZZ'), ('RZE', 'SZY'), ('SZZ', 'WAW'), ('SZZ', 'WMI'), ('SZZ', 'WRO'), ('LUZ', 'WAW'), ('LUZ', 'WMI'), ('LUZ', 'WRO'), ('LUZ', 'POZ'), ('LUZ', 'RZE'), ('LUZ', 'SZZ'), ('LUZ', 'SZY'), ('LUZ', 'RDO'), ('BZG', 'WAW'), ('BZG', 'KRK'), ('BZG', 'GDN'), ('BZG', 'KTW'), ('BZG', 'WMI'), ('BZG', 'WRO'), ('BZG', 'POZ'), ('BZG', 'RZE'), ('BZG', 'SZZ'), ('BZG', 'LUZ'), ('BZG', 'LCJ'), ('BZG', 'SZY'), ('BZG', 'IEG'), ('BZG', 'RDO'), ('LCJ', 'WAW'), ('LCJ', 'WMI'), ('LCJ', 'WRO'), ('LCJ', 'POZ'), ('LCJ', 'RZE'), ('LCJ', 'SZZ'), ('LCJ', 'LUZ'), ('LCJ', 'SZY'), ('LCJ', 'RDO'), ('SZY', 'WAW'), ('SZY', 'WMI'), ('SZY', 'WRO'), ('SZY', 'SZZ'), ('IEG', 'WAW'), ('IEG', 'KRK'), ('IEG', 'KTW'), ('IEG', 'WMI'), ('IEG', 'WRO'), ('IEG', 'POZ'), ('IEG', 'RZE'), ('IEG', 'SZZ'), ('IEG', 'LUZ'), ('IEG', 'LCJ'), ('IEG', 'SZY'), ('IEG', 'RDO'), ('RDO', 'WAW'), ('RDO', 'WMI'), ('RDO', 'WRO'), ('RDO', 'RZE'), ('RDO', 'SZZ'), ('RDO', 'SZY')]\n",
      "105\n"
     ]
    }
   ],
   "source": [
    "ports = ['WAW', 'KRK', 'GDN', 'KTW', 'WMI', 'WRO', 'POZ', 'RZE', 'SZZ',\n",
    "         'LUZ', 'BZG', 'LCJ', 'SZY', 'IEG', 'RDO']\n",
    " \n",
    "routes = [ (start, stop) for start in ports for stop in ports]\n",
    "print(routes)\n",
    "print(len(routes))\n",
    " \n",
    "routes = [ (start, stop) for start in ports for stop in ports if start != stop]\n",
    "print(routes)\n",
    "print(len(routes))\n",
    " \n",
    " \n",
    "routes = [ (start, stop) for start in ports for stop in ports if start < stop]\n",
    "print(routes)\n",
    "print(len(routes))"
   ]
  },
  {
   "cell_type": "code",
   "execution_count": null,
   "metadata": {},
   "outputs": [],
   "source": []
  }
 ],
 "metadata": {
  "kernelspec": {
   "display_name": "Python 3",
   "language": "python",
   "name": "python3"
  },
  "language_info": {
   "codemirror_mode": {
    "name": "ipython",
    "version": 3
   },
   "file_extension": ".py",
   "mimetype": "text/x-python",
   "name": "python",
   "nbconvert_exporter": "python",
   "pygments_lexer": "ipython3",
   "version": "3.9.6"
  }
 },
 "nbformat": 4,
 "nbformat_minor": 2
}
