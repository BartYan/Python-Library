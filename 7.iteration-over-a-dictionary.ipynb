{
 "cells": [
  {
   "cell_type": "markdown",
   "metadata": {},
   "source": [
    "# Iteration over a dictionary"
   ]
  },
  {
   "cell_type": "code",
   "execution_count": 1,
   "metadata": {},
   "outputs": [
    {
     "name": "stdout",
     "output_type": "stream",
     "text": [
      "{'I': 19, 'II': 21, 'III': 22, 'IV': 21, 'V': 20, 'VI': 22}\n"
     ]
    }
   ],
   "source": [
    "workDays = [19, 21, 22, 21, 20, 22]\n",
    "months = ['I', 'II', 'III', 'IV', 'V', 'VI']\n",
    "\n",
    "monthDays = dict(zip(months, workDays))\n",
    "print(monthDays)"
   ]
  },
  {
   "cell_type": "code",
   "execution_count": 2,
   "metadata": {},
   "outputs": [
    {
     "name": "stdout",
     "output_type": "stream",
     "text": [
      "Key is I value is 19\n",
      "Key is II value is 21\n",
      "Key is III value is 22\n",
      "Key is IV value is 21\n",
      "Key is V value is 20\n",
      "Key is VI value is 22\n"
     ]
    }
   ],
   "source": [
    "for key in monthDays:\n",
    "    print('Key is', key, 'value is', monthDays[key])\n"
   ]
  },
  {
   "cell_type": "code",
   "execution_count": 3,
   "metadata": {},
   "outputs": [
    {
     "name": "stdout",
     "output_type": "stream",
     "text": [
      "value is 19\n",
      "value is 21\n",
      "value is 22\n",
      "value is 21\n",
      "value is 20\n",
      "value is 22\n"
     ]
    }
   ],
   "source": [
    "for value in monthDays.values():\n",
    "    print('value is', value)"
   ]
  },
  {
   "cell_type": "markdown",
   "metadata": {},
   "source": [
    "## Example"
   ]
  },
  {
   "cell_type": "code",
   "execution_count": 10,
   "metadata": {},
   "outputs": [
    {
     "name": "stdout",
     "output_type": "stream",
     "text": [
      "{0.01: 0, 0.02: 0, 0.05: 0, 0.1: 0, 0.2: 0, 0.5: 0, 1: 0, 2: 0, 5: 0, 10: 0, 20: 0, 50: 0, 100: 0, 200: 0, 500: 0}\n",
      "{0.01: 0, 0.02: 0, 0.05: 0, 0.1: 0, 0.2: 0, 0.5: 1, 1: 0, 2: 3, 5: 2, 10: 0, 20: 3, 50: 2, 100: 2, 200: 0, 500: 0}\n",
      "Denominate:   0.01 - amount     0\n",
      "Denominate:   0.02 - amount     0\n",
      "Denominate:   0.05 - amount     0\n",
      "Denominate:   0.10 - amount     0\n",
      "Denominate:   0.20 - amount     0\n",
      "Denominate:   0.50 - amount     1\n",
      "Denominate:   1.00 - amount     0\n",
      "Denominate:   2.00 - amount     3\n",
      "Denominate:   5.00 - amount     2\n",
      "Denominate:  10.00 - amount     0\n",
      "Denominate:  20.00 - amount     3\n",
      "Denominate:  50.00 - amount     2\n",
      "Denominate: 100.00 - amount     2\n",
      "Denominate: 200.00 - amount     0\n",
      "Denominate: 500.00 - amount     0\n"
     ]
    }
   ],
   "source": [
    "banknotes_coins = [0.01, 0.02, 0.05, 0.1, 0.2, 0.5, 1, 2, 5, 10, 20, 50, 100, 200, 500]\n",
    " \n",
    "dict_denominations = {}\n",
    " \n",
    "for d in banknotes_coins:\n",
    "    dict_denominations[d]=0\n",
    "\n",
    "print(dict_denominations)\n",
    " \n",
    "dict_denominations[100] += 1\n",
    "dict_denominations[20] += 1\n",
    "dict_denominations[5] += 1\n",
    "dict_denominations[0.5] += 1\n",
    " \n",
    "dict_denominations[50] += 1\n",
    "dict_denominations[20] += 2\n",
    "dict_denominations[5] += 1\n",
    "dict_denominations[2] += 2\n",
    " \n",
    "dict_denominations[100] += 1\n",
    "dict_denominations[50] += 1\n",
    "dict_denominations[2] += 1\n",
    "\n",
    "print(dict_denominations)\n",
    " \n",
    "for k in sorted(dict_denominations.keys()):\n",
    "    print(\"Denominate: {0:6.2f} - amount {1:5}\".format(k, dict_denominations[k]))"
   ]
  },
  {
   "cell_type": "markdown",
   "metadata": {},
   "source": [
    "liczby 0 i 1 w tych miejscach odnoszą się do pozycji argumentów podanych w metodzie format(). Poniżej szczegółowe wyjaśnienie:\n",
    "\n",
    "Co oznacza 0:6.2f i 1:5?\n",
    "0 i 1:\n",
    "\n",
    "0 odnosi się do pierwszego argumentu przekazanego do format(), w tym przypadku jest to k.\n",
    "1 odnosi się do drugiego argumentu przekazanego do format(), czyli dict_denominations[k].\n",
    "\n",
    "\n",
    "6.2f:\n",
    "\n",
    "Oznacza, że wyjście będzie miało co najmniej 6 znaków szerokości, z dokładnością do 2 miejsc po przecinku.\n",
    "f oznacza formatowanie liczby zmiennoprzecinkowej (ang. float).\n",
    "\n",
    "\n",
    "5:\n",
    "\n",
    "Oznacza, że wyjście będzie miało co najmniej 5 znaków szerokości (wyjustowane do prawej strony)."
   ]
  },
  {
   "cell_type": "code",
   "execution_count": null,
   "metadata": {},
   "outputs": [],
   "source": []
  }
 ],
 "metadata": {
  "kernelspec": {
   "display_name": "Python 3",
   "language": "python",
   "name": "python3"
  },
  "language_info": {
   "codemirror_mode": {
    "name": "ipython",
    "version": 3
   },
   "file_extension": ".py",
   "mimetype": "text/x-python",
   "name": "python",
   "nbconvert_exporter": "python",
   "pygments_lexer": "ipython3",
   "version": "3.9.6"
  }
 },
 "nbformat": 4,
 "nbformat_minor": 2
}
