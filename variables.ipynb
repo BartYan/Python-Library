{
  "cells": [
    {
      "cell_type": "markdown",
      "metadata": {
        "id": "ww-7V6u5vekH"
      },
      "source": [
        "# Variables"
      ]
    },
    {
      "cell_type": "code",
      "execution_count": 1,
      "metadata": {
        "id": "RAJH6Di-vhh4"
      },
      "outputs": [
        {
          "name": "stdout",
          "output_type": "stream",
          "text": [
            "<class 'str'> <class 'str'>\n",
            "same value? False\n",
            "are the variables the same? False\n"
          ]
        }
      ],
      "source": [
        "myvar = 'Hi'\n",
        "myvar2 = myvar + '!!'\n",
        "\n",
        "print(type(myvar), type(myvar2))\n",
        "print('same value?', myvar == myvar2)\n",
        "print('are the variables the same?', myvar is myvar2)\n"
      ]
    },
    {
      "cell_type": "code",
      "execution_count": 16,
      "metadata": {
        "id": "W0XgxaOzvXl4"
      },
      "outputs": [
        {
          "name": "stdout",
          "output_type": "stream",
          "text": [
            "4358342384 4358553264\n"
          ]
        }
      ],
      "source": [
        "print(id(myvar), id(myvar2))"
      ]
    },
    {
      "cell_type": "markdown",
      "metadata": {},
      "source": []
    },
    {
      "cell_type": "code",
      "execution_count": 17,
      "metadata": {
        "id": "uEjzE3_Lvk_n"
      },
      "outputs": [
        {
          "name": "stdout",
          "output_type": "stream",
          "text": [
            "Hi\n",
            "Hi\n",
            "<class 'str'> <class 'str'>\n",
            "same value? True\n",
            "are the variables the same? False\n",
            "4358342384 4358551408\n"
          ]
        }
      ],
      "source": [
        "myvar2 = myvar2[:-2]\n",
        "print(myvar)\n",
        "print(myvar2)\n",
        "print(type(myvar), type(myvar2))\n",
        "print('same value?', myvar == myvar2)\n",
        "print('are the variables the same?', myvar is myvar2)\n",
        "print(id(myvar), id(myvar2))"
      ]
    },
    {
      "cell_type": "markdown",
      "metadata": {},
      "source": [
        "## Examples"
      ]
    },
    {
      "cell_type": "code",
      "execution_count": 2,
      "metadata": {},
      "outputs": [
        {
          "name": "stdout",
          "output_type": "stream",
          "text": [
            "10 10 10\n",
            "4370250320 4370250320 4370250320\n",
            "20 10 10\n",
            "4370250640 4370250320 4370250320\n",
            "-----------------------------\n"
          ]
        }
      ],
      "source": [
        "a=b=c=10\n",
        " \n",
        "print(a, b, c)\n",
        "print(id(a), id(b), id(c))\n",
        " \n",
        "a=20\n",
        " \n",
        "print(a, b, c)\n",
        "print(id(a), id(b), id(c))\n",
        "print('-----------------------------')"
      ]
    },
    {
      "cell_type": "code",
      "execution_count": 3,
      "metadata": {},
      "outputs": [
        {
          "name": "stdout",
          "output_type": "stream",
          "text": [
            "[1, 2, 3] [1, 2, 3] [1, 2, 3]\n",
            "4414401408 4414401408 4414401408\n",
            "[1, 2, 3, 4] [1, 2, 3, 4] [1, 2, 3, 4]\n",
            "4414401408 4414401408 4414401408\n",
            "-----------------------------\n"
          ]
        }
      ],
      "source": [
        "a=b=c=[1,2,3]\n",
        " \n",
        "print(a, b, c)\n",
        "print(id(a), id(b), id(c))\n",
        " \n",
        "a.append(4)\n",
        " \n",
        "print(a, b, c)\n",
        "print(id(a), id(b), id(c))\n",
        "print('-----------------------------')"
      ]
    },
    {
      "cell_type": "markdown",
      "metadata": {},
      "source": [
        "Dlaczego tak się stało?\n",
        "W pierwszym przykładzie a, b, c były wskaźnikami do komórki pamięci, w której była zapisana liczba, czyli końcowa wartość\n",
        "W drugim przykładzie a, b, c to wskaźnik do komórki pamięci, w której jest lista. Lista jest wskaźnikiem do elementów tej listy. Kiedy dodajesz nowy element do listy, nie modyfikujesz podstawowej komórki pamięci z listą, dlatego id się nie zmienił"
      ]
    },
    {
      "cell_type": "code",
      "execution_count": 4,
      "metadata": {},
      "outputs": [
        {
          "name": "stdout",
          "output_type": "stream",
          "text": [
            "4370250320 4370250320\n"
          ]
        }
      ],
      "source": [
        "x=10\n",
        "y=10\n",
        "print(id(x), id(y))"
      ]
    },
    {
      "cell_type": "code",
      "execution_count": 5,
      "metadata": {},
      "outputs": [
        {
          "name": "stdout",
          "output_type": "stream",
          "text": [
            "4370250320 4370250320\n",
            "-----------------------------\n"
          ]
        }
      ],
      "source": [
        "y = y + 1 - 1\n",
        "print(id(x), id(y))\n",
        "print('-----------------------------')"
      ]
    },
    {
      "cell_type": "code",
      "execution_count": 6,
      "metadata": {},
      "outputs": [
        {
          "name": "stdout",
          "output_type": "stream",
          "text": [
            "4370250320 4370250320\n",
            "-----------------------------\n"
          ]
        }
      ],
      "source": [
        "y = y + 1234567890 - 1234567890\n",
        "print(id(x), id(y))\n",
        "print('-----------------------------')"
      ]
    },
    {
      "cell_type": "code",
      "execution_count": null,
      "metadata": {},
      "outputs": [],
      "source": []
    }
  ],
  "metadata": {
    "colab": {
      "provenance": []
    },
    "kernelspec": {
      "display_name": "Python 3",
      "name": "python3"
    },
    "language_info": {
      "codemirror_mode": {
        "name": "ipython",
        "version": 3
      },
      "file_extension": ".py",
      "mimetype": "text/x-python",
      "name": "python",
      "nbconvert_exporter": "python",
      "pygments_lexer": "ipython3",
      "version": "3.9.6"
    }
  },
  "nbformat": 4,
  "nbformat_minor": 0
}
