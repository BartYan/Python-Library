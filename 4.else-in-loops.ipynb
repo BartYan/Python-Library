{
 "cells": [
  {
   "cell_type": "markdown",
   "metadata": {},
   "source": [
    "# Else in Loops"
   ]
  },
  {
   "cell_type": "code",
   "execution_count": 7,
   "metadata": {},
   "outputs": [],
   "source": [
    "instruction = ['say hello', 'say how are you', 'abort', 'ask for money', 'say thank you', 'say bye']\n",
    "instructionApproved = []"
   ]
  },
  {
   "cell_type": "code",
   "execution_count": 8,
   "metadata": {},
   "outputs": [
    {
     "name": "stdout",
     "output_type": "stream",
     "text": [
      "Adding intruction: say hello\n",
      "Adding intruction: say how are you\n",
      "Adding intruction: abort\n",
      "Aborting!\n",
      "Following actions will be taken: []\n"
     ]
    }
   ],
   "source": [
    "for inst in instruction:\n",
    "    print('Adding intruction:', inst)\n",
    "    instructionApproved.append(inst)\n",
    "\n",
    "    if inst == 'abort':\n",
    "        print('Aborting!')\n",
    "        instructionApproved.clear()\n",
    "        break\n",
    "\n",
    "print('Following actions will be taken:', instructionApproved)"
   ]
  },
  {
   "cell_type": "code",
   "execution_count": 9,
   "metadata": {},
   "outputs": [
    {
     "name": "stdout",
     "output_type": "stream",
     "text": [
      "Adding intruction: say hello\n",
      "Adding intruction: say how are you\n",
      "Adding intruction: abort\n",
      "Aborting!\n"
     ]
    }
   ],
   "source": [
    "for inst in instruction:\n",
    "    print('Adding intruction:', inst)\n",
    "    instructionApproved.append(inst)\n",
    "\n",
    "    if inst == 'abort':\n",
    "        print('Aborting!')\n",
    "        instructionApproved.clear()\n",
    "        break\n",
    "\n",
    "else: # jesli wystąpił break to nie ma else\n",
    "    print('Following actions will be taken:', instructionApproved)"
   ]
  },
  {
   "cell_type": "markdown",
   "metadata": {},
   "source": [
    "### while loop"
   ]
  },
  {
   "cell_type": "code",
   "execution_count": 10,
   "metadata": {},
   "outputs": [
    {
     "name": "stdout",
     "output_type": "stream",
     "text": [
      "Adding intruction: say hello\n",
      "Adding intruction: say how are you\n",
      "Adding intruction: abort\n",
      "Aborting!\n"
     ]
    }
   ],
   "source": [
    "i = 0\n",
    "while i < len(instruction):\n",
    "    print('Adding intruction:', instruction[i])\n",
    "    instructionApproved.append(instruction[i])\n",
    "\n",
    "    if instruction[i] == 'abort':\n",
    "        print('Aborting!')\n",
    "        instructionApproved.clear()\n",
    "        break\n",
    "\n",
    "    i+=1\n",
    "\n",
    "else: # jesli wystąpił break to nie ma else\n",
    "    print('Following actions will be taken:', instructionApproved)"
   ]
  },
  {
   "cell_type": "markdown",
   "metadata": {},
   "source": [
    "## Examples"
   ]
  },
  {
   "cell_type": "code",
   "execution_count": 13,
   "metadata": {},
   "outputs": [
    {
     "name": "stdout",
     "output_type": "stream",
     "text": [
      "Processing: http://www.mobilo24.eu/  => mobilo.html ...\n",
      "...done\n",
      "Processing: http://abc.cde.fgh.ijk.pl/  => nonexistent.html ...\n",
      "FAILURE processing web page: nonexistent\n",
      "Stopping the process!\n"
     ]
    }
   ],
   "source": [
    "import urllib.request\n",
    "import os\n",
    " \n",
    "data_dir = '/Users/bartekjanusz/Desktop/'\n",
    "pages = [\n",
    "    { 'name': 'mobilo',      'url': 'http://www.mobilo24.eu/'},\n",
    "    { 'name': 'nonexistent', 'url': 'http://abc.cde.fgh.ijk.pl/' },\n",
    "    { 'name': 'kursy',       'url': 'http://www.kursyonline24.eu/'} ]\n",
    " \n",
    "for page in pages:\n",
    " \n",
    "    try:  # Kod, który może potencjalnie spowodować błąd\n",
    "        file_name = \"{}.html\".format(page[\"name\"])\n",
    "        path = os.path.join(data_dir, file_name)\n",
    " \n",
    "        print(\"Processing: {}  => {} ...\".format(page[\"url\"], file_name))\n",
    "        urllib.request.urlretrieve (page[\"url\"], path)\n",
    "        print('...done')\n",
    "        \n",
    "    except: # Kod, który zostanie wykonany, jeśli wystąpi błąd\n",
    "        print('FAILURE processing web page: {}'.format(page[\"name\"]))\n",
    "        print('Stopping the process!')\n",
    "        break\n",
    " \n",
    "else: # Ten blok zostanie wykonany, jeśli pętla for zakończy się bez przerwania\n",
    "    print('All pages downloaded successfully!!!')"
   ]
  },
  {
   "cell_type": "code",
   "execution_count": 15,
   "metadata": {},
   "outputs": [],
   "source": [
    "# przypomnienie:\n",
    "# try: Wykonaj kod, który może potencjalnie spowodować błąd.\n",
    "# except: Jeśli wystąpi błąd, przechwyć go i wykonaj odpowiedni kod.\n",
    "# else: Wykonaj ten kod, jeśli żaden błąd nie wystąpił.\n",
    "# finally: Zawsze wykonaj ten kod, niezależnie od tego, czy wystąpił błąd."
   ]
  },
  {
   "cell_type": "code",
   "execution_count": null,
   "metadata": {},
   "outputs": [],
   "source": []
  }
 ],
 "metadata": {
  "kernelspec": {
   "display_name": "Python 3",
   "language": "python",
   "name": "python3"
  },
  "language_info": {
   "codemirror_mode": {
    "name": "ipython",
    "version": 3
   },
   "file_extension": ".py",
   "mimetype": "text/x-python",
   "name": "python",
   "nbconvert_exporter": "python",
   "pygments_lexer": "ipython3",
   "version": "3.9.6"
  }
 },
 "nbformat": 4,
 "nbformat_minor": 2
}
