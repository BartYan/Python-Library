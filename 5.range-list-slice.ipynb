{
 "cells": [
  {
   "cell_type": "markdown",
   "metadata": {},
   "source": [
    "# Range, List, Slice"
   ]
  },
  {
   "cell_type": "markdown",
   "metadata": {},
   "source": [
    "## Range"
   ]
  },
  {
   "cell_type": "code",
   "execution_count": 2,
   "metadata": {},
   "outputs": [
    {
     "name": "stdout",
     "output_type": "stream",
     "text": [
      "0\n",
      "1\n",
      "2\n",
      "3\n",
      "4\n",
      "5\n",
      "6\n",
      "7\n",
      "8\n",
      "9\n",
      "10\n",
      "1\n",
      "3\n",
      "5\n",
      "7\n",
      "9\n",
      "10\n",
      "9\n",
      "8\n",
      "7\n",
      "6\n",
      "5\n",
      "4\n",
      "3\n",
      "2\n",
      "1\n"
     ]
    }
   ],
   "source": [
    "for i in range(5):\n",
    "    print(i)\n",
    "\n",
    "for i in range(5,11): #od 1 do jeden mniejsza niz druga wartość\n",
    "    print(i)\n",
    "\n",
    "for i in range(1,11,2): #od 1 do jeden mniejsza niz druga wartość + jak obliczać kolejną wartość - tutaj kolejne wartości o 2 większe\n",
    "    print(i)\n",
    "\n",
    "for i in range(10,0,-1):\n",
    "    print(i)"
   ]
  },
  {
   "cell_type": "markdown",
   "metadata": {},
   "source": [
    "## List with range"
   ]
  },
  {
   "cell_type": "code",
   "execution_count": 4,
   "metadata": {},
   "outputs": [
    {
     "name": "stdout",
     "output_type": "stream",
     "text": [
      "List: [0, 1, 2, 3, 4, 5, 6, 7, 8, 9] <class 'list'>\n"
     ]
    }
   ],
   "source": [
    "listRange = list(range(10))  # Tworzenie listy liczb od 0 do 9\n",
    "print('List:', listRange, type(listRange))"
   ]
  },
  {
   "cell_type": "markdown",
   "metadata": {},
   "source": [
    "## Slice list with range"
   ]
  },
  {
   "cell_type": "code",
   "execution_count": 28,
   "metadata": {},
   "outputs": [
    {
     "name": "stdout",
     "output_type": "stream",
     "text": [
      "[8, 9]\n",
      "[0, 1, 5, 6, 7, 8, 9]\n"
     ]
    }
   ],
   "source": [
    "print(listRange[5:7]) # bierzemy od 5 do 7(bez 7) - nie oznacza to, ze wytnę je z listy\n",
    "print(listRange) # przypomnienie - slice nie modyfikuje oryginalnej listy"
   ]
  },
  {
   "cell_type": "code",
   "execution_count": 26,
   "metadata": {},
   "outputs": [
    {
     "name": "stdout",
     "output_type": "stream",
     "text": [
      "[0, 5, 7, 9]\n",
      "[0, 1, 5, 6, 7, 8, 9]\n"
     ]
    }
   ],
   "source": [
    "print(listRange[:8:2]) # od 0 do 8 co drugi\n",
    "print(listRange)"
   ]
  },
  {
   "cell_type": "code",
   "execution_count": 32,
   "metadata": {},
   "outputs": [
    {
     "name": "stdout",
     "output_type": "stream",
     "text": [
      "[0, 1, 5, 6, 7, 8]\n",
      "[9, 8, 7, 6, 5, 1]\n",
      "[9, 8, 7, 6, 5, 1, 0]\n"
     ]
    }
   ],
   "source": [
    "print(listRange[:-1]) # bierzemy wszystkie elemnty do przedostatniego (bez przedostatniego)\n",
    "print(listRange[-1:0:-1]) # od końca do 0(bez zero) cofając się o 1 \n",
    "# (-1 wcześniej nie brała ostatniej cyfry pod uwagę tutaj jednak jest to wratość początkowa)\n",
    "print(listRange[-1::-1]) # od końca do początku cofając się o 1 "
   ]
  },
  {
   "cell_type": "markdown",
   "metadata": {},
   "source": [
    "#### kopiowanie listy za pomocą sliced"
   ]
  },
  {
   "cell_type": "code",
   "execution_count": 35,
   "metadata": {},
   "outputs": [
    {
     "name": "stdout",
     "output_type": "stream",
     "text": [
      "listRange [0, 1, 5, 6, 7, 8, 9] <class 'list'> 4361372288\n",
      "listRange2 [0, 1, 5, 6, 7, 8, 9] <class 'list'> 4361372288\n",
      "listRange3: [0, 1, 5, 6, 7, 8, 9] <class 'list'> 4361409600\n",
      "listRange4: [0, 1, 5, 6, 7, 8, 9] <class 'list'> 4360785088\n"
     ]
    }
   ],
   "source": [
    "listRange2 = listRange #ta sama lista. Edycja spowoduje zmiany w obu\n",
    "listRange3 = listRange.copy() #nowa lista\n",
    "listRange4 = listRange[:] #nowa lista\n",
    "\n",
    "print('listRange', listRange, type(listRange), id(listRange))\n",
    "print('listRange2', listRange2, type(listRange2), id(listRange2))\n",
    "print('listRange3:', listRange3, type(listRange3), id(listRange3))\n",
    "print('listRange4:', listRange4, type(listRange4), id(listRange4))"
   ]
  },
  {
   "cell_type": "markdown",
   "metadata": {},
   "source": [
    "## Examples"
   ]
  },
  {
   "cell_type": "code",
   "execution_count": 2,
   "metadata": {},
   "outputs": [
    {
     "name": "stdout",
     "output_type": "stream",
     "text": [
      "['red']\n",
      "['red', 'orange']\n",
      "['red', 'orange', 'green']\n",
      "['red', 'orange', 'green', 'violet']\n",
      "['red', 'orange', 'green', 'violet', 'blue']\n",
      "['red', 'orange', 'green', 'violet', 'blue', 'yellow']\n",
      "z łac. corpo – ciało, ratus – szczur; pol. ciało szczura\n"
     ]
    }
   ],
   "source": [
    "def get_list_of_colors(colors, n):\n",
    "    return colors[:n]\n",
    " \n",
    "colors = [\"red\", \"orange\", \"green\", \"violet\", \"blue\", \"yellow\"]\n",
    " \n",
    "for i in range(1,len(colors)+1):\n",
    "    print(get_list_of_colors(colors, i))\n",
    "\n",
    " \n",
    "definition = 'Korporacja (z łac. corpo – ciało, ratus – szczur; pol. ciało szczura) – organizacja, która pod przykrywką prowadzenia biznesu włada dzisiejszym światem. Wydawać się może utopijnym miejscem realizacji pasji zawodowych. W rzeczywistości jednak nie jest wcale tak kolorowo. Korporacja służy do wyzyskiwania człowieka w imię postępu. Rządzi w niej prawo dżungli. '\n",
    " \n",
    "print(definition[definition.index('(')+1:definition.index(')')])"
   ]
  },
  {
   "cell_type": "markdown",
   "metadata": {},
   "source": [
    "## Slice in JS vs Python"
   ]
  },
  {
   "cell_type": "markdown",
   "metadata": {},
   "source": [
    "#### Różnica między splice i slice w JavaScript:\n",
    "\n",
    "splice(): Modyfikuje oryginalną tablicę (listę) i zwraca usunięte elementy.\n",
    "\n",
    "slice(): Tworzy nową tablicę z wyciętym fragmentem, ale nie modyfikuje oryginalnej tablicy."
   ]
  },
  {
   "cell_type": "markdown",
   "metadata": {},
   "source": [
    "#### Python - odpowiedniki splice i slice:\n",
    "\n",
    "\n",
    "slice w Pythonie:\n",
    "\n",
    "Python ma wbudowane wycinki (ang. slicing), które działają podobnie do slice() w JavaScript. \n",
    "Tworzą nową listę z wybranym zakresem elementów, ale nie modyfikują oryginalnej listy."
   ]
  },
  {
   "cell_type": "code",
   "execution_count": 10,
   "metadata": {},
   "outputs": [
    {
     "name": "stdout",
     "output_type": "stream",
     "text": [
      "[2, 3, 4]\n",
      "[0, 1, 2, 3, 4, 5, 6, 7, 8, 9]\n"
     ]
    }
   ],
   "source": [
    "listRange = list(range(10))\n",
    "sliced_part = listRange[2:5]  # Zwróci [2, 3, 4]\n",
    "print(sliced_part)  # Wynik: [2, 3, 4]\n",
    "print(listRange)    # Oryginalna lista pozostaje niezmieniona"
   ]
  },
  {
   "cell_type": "markdown",
   "metadata": {},
   "source": [
    "Jeśli chcesz modyfikować oryginalną listę i jednocześnie uzyskać usunięte elementy, możesz połączyć operację slicing (wycinania) z del (usuwaniem) w dwóch krokach. Jest to odpowiednik działania splice() w JavaScript."
   ]
  },
  {
   "cell_type": "code",
   "execution_count": 11,
   "metadata": {},
   "outputs": [
    {
     "name": "stdout",
     "output_type": "stream",
     "text": [
      "Usunięte elementy: [2, 3, 4]\n",
      "Zmodyfikowana lista: [0, 1, 5, 6, 7, 8, 9]\n"
     ]
    }
   ],
   "source": [
    "listRange = list(range(10))  # [0, 1, 2, 3, 4, 5, 6, 7, 8, 9]\n",
    "\n",
    "# Wycięcie i przypisanie usuniętej części\n",
    "removed_part = listRange[2:5]  # Wycięcie elementów o indeksach od 2 do 4 (bez 5)\n",
    "del listRange[2:5]             # Usunięcie tych elementów z oryginalnej listy\n",
    "\n",
    "print(\"Usunięte elementy:\", removed_part)  # Wynik: [2, 3, 4]\n",
    "print(\"Zmodyfikowana lista:\", listRange)   # Wynik: [0, 1, 5, 6, 7, 8, 9]"
   ]
  },
  {
   "cell_type": "markdown",
   "metadata": {},
   "source": [
    "W Pythonie nie ma bezpośredniej funkcji takiej jak splice(), która modyfikuje listę i jednocześnie zwraca usunięte elementy. Zamiast tego używamy połączenia wycinków (slicing) i usuwania (del) do osiągnięcia tego efektu."
   ]
  }
 ],
 "metadata": {
  "kernelspec": {
   "display_name": "Python 3",
   "language": "python",
   "name": "python3"
  },
  "language_info": {
   "codemirror_mode": {
    "name": "ipython",
    "version": 3
   },
   "file_extension": ".py",
   "mimetype": "text/x-python",
   "name": "python",
   "nbconvert_exporter": "python",
   "pygments_lexer": "ipython3",
   "version": "3.9.6"
  }
 },
 "nbformat": 4,
 "nbformat_minor": 2
}
