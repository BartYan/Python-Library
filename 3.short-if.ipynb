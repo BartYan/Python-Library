{
 "cells": [
  {
   "cell_type": "markdown",
   "metadata": {},
   "source": [
    "# If & pass"
   ]
  },
  {
   "cell_type": "code",
   "execution_count": 2,
   "metadata": {},
   "outputs": [],
   "source": [
    "dayType = 3\n",
    "\n",
    "weekend = 1\n",
    "workday = 2\n",
    "holiday = 3"
   ]
  },
  {
   "cell_type": "code",
   "execution_count": 3,
   "metadata": {},
   "outputs": [],
   "source": [
    "if dayType == 1:\n",
    "    pass\n",
    "elif dayType == 2:\n",
    "    pass\n",
    "else:\n",
    "    pass"
   ]
  },
  {
   "cell_type": "code",
   "execution_count": 4,
   "metadata": {},
   "outputs": [
    {
     "name": "stdout",
     "output_type": "stream",
     "text": [
      "holiday\n"
     ]
    }
   ],
   "source": [
    "dayDesc = 'weekend' if dayType == 1 else 'workday' if dayType == 2 else 'holiday'\n",
    "print(dayDesc)"
   ]
  },
  {
   "cell_type": "code",
   "execution_count": 5,
   "metadata": {},
   "outputs": [
    {
     "name": "stdout",
     "output_type": "stream",
     "text": [
      "holiday\n"
     ]
    }
   ],
   "source": [
    "print('weekend') if dayType == 1 else print('workday') if dayType == 2 else print('holiday')"
   ]
  },
  {
   "cell_type": "markdown",
   "metadata": {},
   "source": [
    "## Example"
   ]
  },
  {
   "cell_type": "code",
   "execution_count": 6,
   "metadata": {},
   "outputs": [
    {
     "name": "stdout",
     "output_type": "stream",
     "text": [
      "100\n",
      "very good\n"
     ]
    }
   ],
   "source": [
    "price = 123\n",
    "bonus = 23\n",
    "bonus_granted = True\n",
    " \n",
    "price = price - bonus if bonus_granted else price\n",
    "print(price)\n",
    "\n",
    "\n",
    "rating = 5\n",
    " \n",
    "print('very good' if rating == 5 else 'good' if rating == 4 else 'weak')"
   ]
  },
  {
   "cell_type": "code",
   "execution_count": 7,
   "metadata": {},
   "outputs": [
    {
     "name": "stdout",
     "output_type": "stream",
     "text": [
      "You are doing laundry\n",
      "You are doing laundry\n"
     ]
    }
   ],
   "source": [
    "import datetime as dt\n",
    " \n",
    "today_weekday = dt.date.today().strftime(\"%A\")\n",
    " \n",
    "if today_weekday == 'Monday':\n",
    "    print(\"I'm helping my mum\")\n",
    "elif today_weekday == 'Tuesday' or today_weekday == 'Wednesday':\n",
    "    print(\"You are doing laundry\")\n",
    "elif today_weekday == 'Thursday':\n",
    "    print(\"I'm on duty\")\n",
    "elif today_weekday == 'Friday':\n",
    "    print(\"I have two meetings\")\n",
    "elif today_weekday == 'Saturday':\n",
    "    print(\"You have lessons\")\n",
    "else:\n",
    "    print(\"SUNDAY WILL BE FOR US\")\n",
    " \n",
    " \n",
    "print(\"I'm helping my mum\" if today_weekday == 'Monday' else\n",
    "      \"You are doing laundry\" if today_weekday == 'Tuesday' or today_weekday == 'Wednesday' else\n",
    "      \"I'm on duty\" if today_weekday == 'Thursday' else\n",
    "      \"I have two meetings\" if today_weekday == 'Friday' else\n",
    "      \"You have lessons\" if today_weekday == 'Saturday' else\n",
    "      \"SUNDAY WILL BE FOR US\")"
   ]
  },
  {
   "cell_type": "code",
   "execution_count": null,
   "metadata": {},
   "outputs": [],
   "source": []
  }
 ],
 "metadata": {
  "kernelspec": {
   "display_name": "Python 3",
   "language": "python",
   "name": "python3"
  },
  "language_info": {
   "codemirror_mode": {
    "name": "ipython",
    "version": 3
   },
   "file_extension": ".py",
   "mimetype": "text/x-python",
   "name": "python",
   "nbconvert_exporter": "python",
   "pygments_lexer": "ipython3",
   "version": "3.9.6"
  }
 },
 "nbformat": 4,
 "nbformat_minor": 2
}
