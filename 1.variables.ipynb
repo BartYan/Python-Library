{
  "cells": [
    {
      "cell_type": "markdown",
      "metadata": {
        "id": "ww-7V6u5vekH"
      },
      "source": [
        "# Variables"
      ]
    },
    {
      "cell_type": "code",
      "execution_count": 1,
      "metadata": {
        "id": "RAJH6Di-vhh4"
      },
      "outputs": [
        {
          "name": "stdout",
          "output_type": "stream",
          "text": [
            "<class 'str'> <class 'str'>\n",
            "same value? False\n",
            "are the variables the same? False\n"
          ]
        }
      ],
      "source": [
        "myvar = 'Hi'\n",
        "myvar2 = myvar + '!!'\n",
        "\n",
        "print(type(myvar), type(myvar2))\n",
        "print('same value?', myvar == myvar2)\n",
        "print('are the variables the same?', myvar is myvar2)\n"
      ]
    },
    {
      "cell_type": "code",
      "execution_count": 16,
      "metadata": {
        "id": "W0XgxaOzvXl4"
      },
      "outputs": [
        {
          "name": "stdout",
          "output_type": "stream",
          "text": [
            "4358342384 4358553264\n"
          ]
        }
      ],
      "source": [
        "print(id(myvar), id(myvar2))"
      ]
    },
    {
      "cell_type": "markdown",
      "metadata": {},
      "source": []
    },
    {
      "cell_type": "code",
      "execution_count": 17,
      "metadata": {
        "id": "uEjzE3_Lvk_n"
      },
      "outputs": [
        {
          "name": "stdout",
          "output_type": "stream",
          "text": [
            "Hi\n",
            "Hi\n",
            "<class 'str'> <class 'str'>\n",
            "same value? True\n",
            "are the variables the same? False\n",
            "4358342384 4358551408\n"
          ]
        }
      ],
      "source": [
        "myvar2 = myvar2[:-2]\n",
        "print(myvar)\n",
        "print(myvar2)\n",
        "print(type(myvar), type(myvar2))\n",
        "print('same value?', myvar == myvar2)\n",
        "print('are the variables the same?', myvar is myvar2)\n",
        "print(id(myvar), id(myvar2))"
      ]
    },
    {
      "cell_type": "markdown",
      "metadata": {},
      "source": [
        "## Examples"
      ]
    },
    {
      "cell_type": "code",
      "execution_count": 2,
      "metadata": {},
      "outputs": [
        {
          "name": "stdout",
          "output_type": "stream",
          "text": [
            "10 10 10\n",
            "4370250320 4370250320 4370250320\n",
            "20 10 10\n",
            "4370250640 4370250320 4370250320\n",
            "-----------------------------\n"
          ]
        }
      ],
      "source": [
        "a=b=c=10\n",
        " \n",
        "print(a, b, c)\n",
        "print(id(a), id(b), id(c))\n",
        " \n",
        "a=20\n",
        " \n",
        "print(a, b, c)\n",
        "print(id(a), id(b), id(c))\n",
        "print('-----------------------------')"
      ]
    },
    {
      "cell_type": "code",
      "execution_count": 3,
      "metadata": {},
      "outputs": [
        {
          "name": "stdout",
          "output_type": "stream",
          "text": [
            "[1, 2, 3] [1, 2, 3] [1, 2, 3]\n",
            "4414401408 4414401408 4414401408\n",
            "[1, 2, 3, 4] [1, 2, 3, 4] [1, 2, 3, 4]\n",
            "4414401408 4414401408 4414401408\n",
            "-----------------------------\n"
          ]
        }
      ],
      "source": [
        "a=b=c=[1,2,3]\n",
        " \n",
        "print(a, b, c)\n",
        "print(id(a), id(b), id(c))\n",
        " \n",
        "a.append(4)\n",
        " \n",
        "print(a, b, c)\n",
        "print(id(a), id(b), id(c))\n",
        "print('-----------------------------')"
      ]
    },
    {
      "cell_type": "markdown",
      "metadata": {},
      "source": [
        "Dlaczego tak się stało?\n",
        "W pierwszym przykładzie a, b, c były wskaźnikami do komórki pamięci, w której była zapisana liczba, czyli końcowa wartość\n",
        "W drugim przykładzie a, b, c to wskaźnik do komórki pamięci, w której jest lista. Lista jest wskaźnikiem do elementów tej listy. Kiedy dodajesz nowy element do listy, nie modyfikujesz podstawowej komórki pamięci z listą, dlatego id się nie zmienił"
      ]
    },
    {
      "cell_type": "code",
      "execution_count": 4,
      "metadata": {},
      "outputs": [
        {
          "name": "stdout",
          "output_type": "stream",
          "text": [
            "4370250320 4370250320\n"
          ]
        }
      ],
      "source": [
        "x=10\n",
        "y=10\n",
        "print(id(x), id(y))"
      ]
    },
    {
      "cell_type": "code",
      "execution_count": 5,
      "metadata": {},
      "outputs": [
        {
          "name": "stdout",
          "output_type": "stream",
          "text": [
            "4370250320 4370250320\n",
            "-----------------------------\n"
          ]
        }
      ],
      "source": [
        "y = y + 1 - 1\n",
        "print(id(x), id(y))\n",
        "print('-----------------------------')"
      ]
    },
    {
      "cell_type": "code",
      "execution_count": 6,
      "metadata": {},
      "outputs": [
        {
          "name": "stdout",
          "output_type": "stream",
          "text": [
            "4370250320 4370250320\n",
            "-----------------------------\n"
          ]
        }
      ],
      "source": [
        "y = y + 1234567890 - 1234567890\n",
        "print(id(x), id(y))\n",
        "print('-----------------------------')"
      ]
    },
    {
      "cell_type": "markdown",
      "metadata": {},
      "source": [
        "## Variables Types"
      ]
    },
    {
      "cell_type": "code",
      "execution_count": 1,
      "metadata": {},
      "outputs": [
        {
          "name": "stdout",
          "output_type": "stream",
          "text": [
            "10 4450597456\n",
            "12 4450597520\n"
          ]
        }
      ],
      "source": [
        "number = 10\n",
        "print(number, id(number))\n",
        "number +=2\n",
        "print(number, id(number))"
      ]
    },
    {
      "cell_type": "code",
      "execution_count": 2,
      "metadata": {},
      "outputs": [
        {
          "name": "stdout",
          "output_type": "stream",
          "text": [
            "Africa 4495396144\n",
            "Africa is hot 4494689456\n"
          ]
        }
      ],
      "source": [
        "text = 'Africa'\n",
        "print(text, id(text))\n",
        "text += ' is hot'\n",
        "print(text, id(text))"
      ]
    },
    {
      "cell_type": "markdown",
      "metadata": {},
      "source": [
        "Typy:\n",
        "\n",
        "mutable = zmienna / list,\n",
        "\n",
        "immutable = niezmienne / int, string"
      ]
    },
    {
      "cell_type": "code",
      "execution_count": 4,
      "metadata": {},
      "outputs": [
        {
          "name": "stdout",
          "output_type": "stream",
          "text": [
            "[1, 2, 3] 4495315392\n",
            "[1, 2, 3, 4] 4495315392\n"
          ]
        }
      ],
      "source": [
        "list = [1,2,3]\n",
        "print(list, id(list))\n",
        "list.append(4)\n",
        "print(list, id(list))"
      ]
    },
    {
      "cell_type": "code",
      "execution_count": 6,
      "metadata": {},
      "outputs": [
        {
          "name": "stdout",
          "output_type": "stream",
          "text": [
            "[1, 2, 3, 4] 4495315392\n",
            "[1, 2, 3, 4, 5] 4495315392\n",
            "[1, 2, 3, 4, 5] 4495315392\n"
          ]
        }
      ],
      "source": [
        "list2 = list\n",
        "print(list2, id(list2))\n",
        "list2.append(5)\n",
        "print(list, id(list))\n",
        "print(list2, id(list2))"
      ]
    },
    {
      "cell_type": "markdown",
      "metadata": {},
      "source": [
        "Jak zrobić nowy obiekt listy, skoro przypisana lista do nowej listy odnosi się do tego samego miejsca w pamieci?"
      ]
    },
    {
      "cell_type": "code",
      "execution_count": 7,
      "metadata": {},
      "outputs": [
        {
          "name": "stdout",
          "output_type": "stream",
          "text": [
            "[1, 2, 3, 4, 5] 4495315392\n",
            "[1, 2, 3, 4, 5] 4495370240\n",
            "[1, 2, 3, 4, 5] 4495315392\n",
            "[1, 2, 3, 4, 5, 6] 4495370240\n"
          ]
        }
      ],
      "source": [
        "list3 = list.copy()\n",
        "print(list, id(list))\n",
        "print(list3, id(list3))\n",
        "list3.append(6)\n",
        "print(list, id(list))\n",
        "print(list3, id(list3))"
      ]
    },
    {
      "cell_type": "markdown",
      "metadata": {},
      "source": [
        "### example"
      ]
    },
    {
      "cell_type": "code",
      "execution_count": 9,
      "metadata": {},
      "outputs": [
        {
          "name": "stdout",
          "output_type": "stream",
          "text": [
            "days:  ['mon', 'tue', 'wed', 'thu', 'fri', 'sat', 'sun']\n",
            "workdays:  ['mon', 'tue', 'wed', 'thu', 'fri']\n"
          ]
        }
      ],
      "source": [
        "days = ['mon','tue','wed','thu','fri','sat','sun']\n",
        "\n",
        "workdays = days.copy()\n",
        "workdays.remove('sat')\n",
        "workdays.remove('sun')\n",
        " \n",
        "print('days: ', days)\n",
        "print('workdays: ', workdays)"
      ]
    },
    {
      "cell_type": "markdown",
      "metadata": {},
      "source": [
        "## Boolean conversion"
      ]
    },
    {
      "cell_type": "code",
      "execution_count": 11,
      "metadata": {},
      "outputs": [
        {
          "name": "stdout",
          "output_type": "stream",
          "text": [
            "True <class 'str'>\n",
            "TRUE\n"
          ]
        }
      ],
      "source": [
        "isOk = 'True'\n",
        "print(isOk, type(isOk))\n",
        "if isOk:\n",
        "    print('TRUE')"
      ]
    },
    {
      "cell_type": "code",
      "execution_count": 12,
      "metadata": {},
      "outputs": [
        {
          "name": "stdout",
          "output_type": "stream",
          "text": [
            " <class 'str'>\n"
          ]
        }
      ],
      "source": [
        "isOk = ''\n",
        "print(isOk, type(isOk))\n",
        "if isOk:\n",
        "    print('TRUE')"
      ]
    },
    {
      "cell_type": "code",
      "execution_count": 13,
      "metadata": {},
      "outputs": [
        {
          "name": "stdout",
          "output_type": "stream",
          "text": [
            "1 <class 'int'>\n",
            "TRUE\n"
          ]
        }
      ],
      "source": [
        "isOk = 1\n",
        "print(isOk, type(isOk))\n",
        "if isOk:\n",
        "    print('TRUE')"
      ]
    },
    {
      "cell_type": "code",
      "execution_count": 14,
      "metadata": {},
      "outputs": [
        {
          "name": "stdout",
          "output_type": "stream",
          "text": [
            "0 <class 'int'>\n"
          ]
        }
      ],
      "source": [
        "isOk = 0\n",
        "print(isOk, type(isOk))\n",
        "if isOk:\n",
        "    print('TRUE')"
      ]
    }
  ],
  "metadata": {
    "colab": {
      "provenance": []
    },
    "kernelspec": {
      "display_name": "Python 3",
      "name": "python3"
    },
    "language_info": {
      "codemirror_mode": {
        "name": "ipython",
        "version": 3
      },
      "file_extension": ".py",
      "mimetype": "text/x-python",
      "name": "python",
      "nbconvert_exporter": "python",
      "pygments_lexer": "ipython3",
      "version": "3.9.6"
    }
  },
  "nbformat": 4,
  "nbformat_minor": 0
}
